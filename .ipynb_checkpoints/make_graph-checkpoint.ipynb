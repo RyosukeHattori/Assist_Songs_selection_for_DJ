{
 "cells": [
  {
   "cell_type": "code",
   "execution_count": 1,
   "metadata": {},
   "outputs": [],
   "source": [
    "import pandas as pd\n",
    "import glob\n",
    "\n",
    "import spotipy\n",
    "from spotipy.oauth2 import SpotifyClientCredentials\n",
    "import spotipy.util as util\n",
    "\n",
    "%matplotlib inline\n",
    "import matplotlib.pyplot as plt\n",
    "\n",
    "\n",
    "client_id = '55e915e6dc2549b29feb68ef4e611e2a'\n",
    "client_secret = '086669968e7e4892bc08c8d39308afaf'\n",
    "username=\"21ulbu67tca2mhvh2jiy3g4da\""
   ]
  },
  {
   "cell_type": "code",
   "execution_count": 2,
   "metadata": {},
   "outputs": [],
   "source": [
    "token = util.prompt_for_user_token(\n",
    "    username=\"21ulbu67tca2mhvh2jiy3g4da\",\n",
    "    scope='user-read-playback-state,playlist-read-private,user-modify-playback-state,playlist-modify-public', \n",
    "    client_id = '55e915e6dc2549b29feb68ef4e611e2a',\n",
    "    client_secret = '086669968e7e4892bc08c8d39308afaf',\n",
    "    redirect_uri=\"http://localhost:8889/callback\"\n",
    ")\n",
    "sp = spotipy.Spotify(auth=token)"
   ]
  },
  {
   "cell_type": "code",
   "execution_count": null,
   "metadata": {},
   "outputs": [],
   "source": []
  },
  {
   "cell_type": "code",
   "execution_count": 9,
   "metadata": {},
   "outputs": [],
   "source": [
    "def make_graph(df,file):\n",
    "    for i in ['danceability', 'energy',\n",
    "           'key', 'loudness', 'mode', 'speechiness', 'acousticness',\n",
    "           'instrumentalness', 'liveness', 'valence', 'tempo']:\n",
    "        fig,ax = plt.subplots()\n",
    "        plt.bar(df[\"track\"], df[i])\n",
    "        fig.autofmt_xdate(rotation=45)\n",
    "        #plt.xticks(rotation=90)\n",
    "        #plt.xticks(fontsize=10)\n",
    "        plt.title(i)\n",
    "        plt.tight_layout()\n",
    "        plt.savefig(\"outputs/\" + file[12:-4] +\"_\"+ i+\".png\",dpi =400)\n",
    "        plt.close()\n",
    "    \n",
    "    return 0"
   ]
  },
  {
   "cell_type": "code",
   "execution_count": 10,
   "metadata": {},
   "outputs": [
    {
     "name": "stdout",
     "output_type": "stream",
     "text": [
      "['./playlists/DJ Bilgthy.csv', './playlists/1212.csv', './playlists/0109.csv', './playlists/Regeatton.csv', './playlists/1212(2).csv', './playlists/0209.csv', './playlists/EDM for CDJ2000.csv', './playlists/dance-hip-hop.csv', './playlists/1118.csv', './playlists/sonic .csv', './playlists/pops-edm.csv', './playlists/1120.csv', './playlists/1003（BEST）.csv', './playlists/0717.csv', './playlists/RAIAN.csv', './playlists/0316.csv', './playlists/0116.csv']\n"
     ]
    }
   ],
   "source": [
    "files = glob.glob(\"./playlists/*.csv\")\n",
    "print(files)"
   ]
  },
  {
   "cell_type": "code",
   "execution_count": 11,
   "metadata": {},
   "outputs": [
    {
     "name": "stderr",
     "output_type": "stream",
     "text": [
      "<ipython-input-9-e46751ccc3d8>:11: UserWarning: Tight layout not applied. The bottom and top margins cannot be made large enough to accommodate all axes decorations. \n",
      "  plt.tight_layout()\n",
      "<ipython-input-9-e46751ccc3d8>:11: UserWarning: Tight layout not applied. The left and right margins cannot be made large enough to accommodate all axes decorations. \n",
      "  plt.tight_layout()\n"
     ]
    }
   ],
   "source": [
    "for file in files:\n",
    "    df = pd.read_csv(file)\n",
    "    df = df.drop([\"Unnamed: 0\",\"index_x\"] ,1)\n",
    "    df.index = df[\"id\"]\n",
    "    \n",
    "    make_graph(df,file)"
   ]
  },
  {
   "cell_type": "code",
   "execution_count": 12,
   "metadata": {},
   "outputs": [
    {
     "data": {
      "text/plain": [
       "17"
      ]
     },
     "execution_count": 12,
     "metadata": {},
     "output_type": "execute_result"
    }
   ],
   "source": [
    "len(files)"
   ]
  },
  {
   "cell_type": "code",
   "execution_count": 7,
   "metadata": {},
   "outputs": [],
   "source": [
    "# Create Marix\n",
    "matrix = pd.DataFrame(index=df[\"id\"], columns=df[\"id\"])\n",
    "matrix.fillna(0, inplace=True)\n",
    "\n",
    "for i in range(len(matrix)):\n",
    "    matrix.iloc[i,i] = 1\n",
    "\n",
    "for i in range(1,len(matrix)-1):\n",
    "    matrix.iloc[i,i-1] = 1\n",
    "    matrix.iloc[i,i+1] = 1\n",
    "\n",
    "matrix.iloc[len(matrix)-1,len(matrix)-2] = 1\n",
    "matrix.iloc[0,0+1] = 1\n"
   ]
  },
  {
   "cell_type": "code",
   "execution_count": null,
   "metadata": {},
   "outputs": [],
   "source": []
  }
 ],
 "metadata": {
  "kernelspec": {
   "display_name": "Python 3",
   "language": "python",
   "name": "python3"
  },
  "language_info": {
   "codemirror_mode": {
    "name": "ipython",
    "version": 3
   },
   "file_extension": ".py",
   "mimetype": "text/x-python",
   "name": "python",
   "nbconvert_exporter": "python",
   "pygments_lexer": "ipython3",
   "version": "3.8.5"
  }
 },
 "nbformat": 4,
 "nbformat_minor": 4
}
