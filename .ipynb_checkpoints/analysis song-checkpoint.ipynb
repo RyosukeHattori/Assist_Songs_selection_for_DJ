{
 "cells": [
  {
   "cell_type": "code",
   "execution_count": 3,
   "metadata": {},
   "outputs": [],
   "source": [
    "import spotipy\n",
    "from spotipy.oauth2 import SpotifyClientCredentials\n",
    "import spotipy.util as util\n",
    "import sys\n",
    "import pprint\n",
    "import pandas as pd\n",
    "from sklearn.preprocessing import MinMaxScaler\n",
    "import joblib \n",
    "import numpy as np\n",
    "import requests\n",
    "import json"
   ]
  },
  {
   "cell_type": "code",
   "execution_count": 4,
   "metadata": {},
   "outputs": [],
   "source": [
    "def cos_sim(v1, v2):\n",
    "    return np.dot(v1, v2) / (np.linalg.norm(v1) * np.linalg.norm(v2))"
   ]
  },
  {
   "cell_type": "code",
   "execution_count": 5,
   "metadata": {},
   "outputs": [],
   "source": [
    "def make_playlist(song, df):\n",
    "    df = df.sample(frac=1)\n",
    "    scaler = MinMaxScaler()# インスタンスの作成\n",
    "    scaler.fit(df[\"loudness\"].values.reshape(-1, 1))  \n",
    "    df[\"loudness\"] = scaler.transform(df[\"loudness\"].values.reshape(-1, 1)) \n",
    "    joblib.dump(scaler, 'sscaler.sav') \n",
    "    #sscaler =joblib.load('sscaler.sav')\n",
    "    song[\"loudness\"] = scaler.transform(song[\"loudness\"].reshape(1, -1)).reshape(1,)[0]\n",
    "    \n",
    "    #重みずけ\n",
    "    song[\"danceability\"] = 2*song[\"danceability\"] \n",
    "    song[\"valence\"] = 2*song[\"valence\"]\n",
    "    df[\"danceability\"] = 2*df[\"danceability\"] \n",
    "    df[\"valence\"] = 2*df[\"valence\"] \n",
    "    \n",
    "    \n",
    "    \n",
    "    df = df[(df[\"tempo\"] > song[\"tempo\"]-5) & (df[\"tempo\"] < song[\"tempo\"] +5) ]\n",
    "    df = df[df[\"time_signature\"] == song[\"time_signature\"]]\n",
    "    \n",
    "    search = df.drop(\"id\",1)\n",
    "    a=[]\n",
    "    for k in range(len(song.drop(\"id\"))):\n",
    "        a.append(song.drop(\"id\")[k])\n",
    "        qury_search = np.array(a)\n",
    "    cos = []\n",
    "    for i in range(len(search)):\n",
    "        cos.append(np.dot(search.iloc[i,:].values ,qury_search)/(np.linalg.norm(search.iloc[i,:].values) * np.linalg.norm(qury_search)))\n",
    "    \n",
    "    df[\"cos\"] = cos\n",
    "    df = df.sort_values(\"cos\", ascending=False)\n",
    "    df = df.drop(\"cos\",1)\n",
    "    \n",
    "    return df.iloc[0]"
   ]
  },
  {
   "cell_type": "code",
   "execution_count": 6,
   "metadata": {},
   "outputs": [],
   "source": [
    "client_id = '55e915e6dc2549b29feb68ef4e611e2a'\n",
    "client_secret = '086669968e7e4892bc08c8d39308afaf'\n",
    "username=\"21ulbu67tca2mhvh2jiy3g4da\"\n",
    "#client_credentials_manager = spotipy.oauth2.SpotifyClientCredentials(client_id, client_secret)\n",
    "#sp = spotipy.Spotify(client_credentials_manager=client_credentials_manager)"
   ]
  },
  {
   "cell_type": "code",
   "execution_count": 7,
   "metadata": {},
   "outputs": [],
   "source": [
    "token = util.prompt_for_user_token(\n",
    "    username=\"21ulbu67tca2mhvh2jiy3g4da\",\n",
    "    scope='user-read-playback-state,playlist-read-private,user-modify-playback-state,playlist-modify-public', \n",
    "    client_id = '55e915e6dc2549b29feb68ef4e611e2a',\n",
    "    client_secret = '086669968e7e4892bc08c8d39308afaf',\n",
    "    redirect_uri=\"http://localhost:8889/callback\"\n",
    ")\n",
    "sp = spotipy.Spotify(auth=token)"
   ]
  },
  {
   "cell_type": "code",
   "execution_count": 8,
   "metadata": {},
   "outputs": [],
   "source": [
    "df = pd.read_csv(\"spotipy.csv\")\n",
    "df = df.drop([\"Unnamed: 0\",\"analysis_url\",\"track_href\",\"uri\",\"duration_ms\",\"type\"],1)\n",
    "df = df.drop_duplicates(keep=False)"
   ]
  },
  {
   "cell_type": "code",
   "execution_count": 9,
   "metadata": {},
   "outputs": [],
   "source": [
    "name = \"paris\""
   ]
  },
  {
   "cell_type": "code",
   "execution_count": 10,
   "metadata": {},
   "outputs": [
    {
     "name": "stdout",
     "output_type": "stream",
     "text": [
      "0                      Paris\n",
      "1    Verano En París - Remix\n",
      "2    Verano En París - Remix\n",
      "3    Verano En París - Remix\n",
      "4          Paris in the Rain\n",
      "Name: name, dtype: object\n"
     ]
    }
   ],
   "source": [
    "id_list = []\n",
    "name_list = []\n",
    "result = sp.search(q='track:'+name, limit=5, offset=0, type='track', market=None)\n",
    "for track in result['tracks']['items']:\n",
    "    id_list.append(track['id'])\n",
    "    name_list.append(track[\"name\"])\n",
    "\n",
    "featur = []\n",
    "for k in range(len(id_list)):\n",
    "    features = sp.audio_features(id_list[k])\n",
    "    featur.append(features)\n",
    "    \n",
    "df2 = pd.DataFrame(featur[1],columns=['acousticness', 'analysis_url', 'danceability',\"duration_ms\",\"energy\",\"id\",\"instrumentalness\",\"liveness\",\"loudness\",\"mode\",\"speechiness\" ,\"tempo\",\"time_signature\",\"track_href\",\"type\", \"uri\",\"valence\"])\n",
    "for k in range(len(featur)):\n",
    "    [item for item in featur[k] if item]\n",
    "    df2 = pd.concat([pd.DataFrame([item for item in featur[k] if item],columns=['acousticness', 'analysis_url', 'danceability',\"duration_ms\",\"energy\",\"id\",\"instrumentalness\",\"liveness\",\"loudness\",\"mode\",\"speechiness\" ,\"tempo\",\"time_signature\",\"track_href\",\"type\", \"uri\",\"valence\"]), df2])\n",
    "\n",
    "df2 =df2.iloc[1:,]  \n",
    "df2 = df2.reset_index()\n",
    "name_df = pd.DataFrame(name_list)\n",
    "df2[\"name\"] = name_df\n",
    "print(df2[\"name\"])"
   ]
  },
  {
   "cell_type": "code",
   "execution_count": 11,
   "metadata": {},
   "outputs": [],
   "source": [
    "#上のindexから選曲\n",
    "index = 0\n",
    "qury = df2.iloc[index].drop([\"index\",\"analysis_url\",\"track_href\",\"uri\",\"duration_ms\",\"type\",\"name\"])"
   ]
  },
  {
   "cell_type": "code",
   "execution_count": 12,
   "metadata": {
    "scrolled": true
   },
   "outputs": [],
   "source": [
    "tracs = []\n",
    "for i in range(20):\n",
    "    tracs.append(qury[\"id\"])\n",
    "    qury =  make_playlist(qury,df)\n",
    "    #playlist.append( \"spotify:track:\" +qury[\"id\"])\n",
    "    df = df[df.loc[:,\"id\"] != qury[\"id\"]]"
   ]
  },
  {
   "cell_type": "code",
   "execution_count": 13,
   "metadata": {},
   "outputs": [],
   "source": [
    "#Playlist_Name\n",
    "Playlist_Name = \"paris\""
   ]
  },
  {
   "cell_type": "code",
   "execution_count": 14,
   "metadata": {},
   "outputs": [
    {
     "data": {
      "text/plain": [
       "{'snapshot_id': 'MixhNjUwOGNiY2E1YzlhNTgyZTUxYmQ0ZmNhNDdmMGJiNmY2YzdkNTc2'}"
      ]
     },
     "execution_count": 14,
     "metadata": {},
     "output_type": "execute_result"
    }
   ],
   "source": [
    "playlist = sp.user_playlist_create(username,Playlist_Name)\n",
    "playlist_id = playlist['id']\n",
    "sp.user_playlist_add_tracks(username, playlist_id, tracs)"
   ]
  },
  {
   "cell_type": "code",
   "execution_count": null,
   "metadata": {},
   "outputs": [],
   "source": []
  }
 ],
 "metadata": {
  "kernelspec": {
   "display_name": "Python 3",
   "language": "python",
   "name": "python3"
  },
  "language_info": {
   "codemirror_mode": {
    "name": "ipython",
    "version": 3
   },
   "file_extension": ".py",
   "mimetype": "text/x-python",
   "name": "python",
   "nbconvert_exporter": "python",
   "pygments_lexer": "ipython3",
   "version": "3.8.5"
  }
 },
 "nbformat": 4,
 "nbformat_minor": 2
}
