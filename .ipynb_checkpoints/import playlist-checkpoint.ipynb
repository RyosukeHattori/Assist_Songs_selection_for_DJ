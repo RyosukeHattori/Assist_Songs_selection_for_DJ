{
 "cells": [
  {
   "cell_type": "code",
   "execution_count": 1,
   "metadata": {},
   "outputs": [],
   "source": [
    "import pandas as pd\n",
    "import glob\n",
    "import codecs\n",
    "import re\n",
    "\n",
    "import spotipy\n",
    "from spotipy.oauth2 import SpotifyClientCredentials\n",
    "import spotipy.util as util\n",
    "\n",
    "client_id = '55e915e6dc2549b29feb68ef4e611e2a'\n",
    "client_secret = '086669968e7e4892bc08c8d39308afaf'\n",
    "username=\"21ulbu67tca2mhvh2jiy3g4da\""
   ]
  },
  {
   "cell_type": "code",
   "execution_count": 2,
   "metadata": {},
   "outputs": [],
   "source": [
    "token = util.prompt_for_user_token(\n",
    "    username=\"21ulbu67tca2mhvh2jiy3g4da\",\n",
    "    scope='user-read-playback-state,playlist-read-private,user-modify-playback-state,playlist-modify-public', \n",
    "    client_id = '55e915e6dc2549b29feb68ef4e611e2a',\n",
    "    client_secret = '086669968e7e4892bc08c8d39308afaf',\n",
    "    redirect_uri=\"http://localhost:8889/callback\"\n",
    ")\n",
    "sp = spotipy.Spotify(auth=token)"
   ]
  },
  {
   "cell_type": "code",
   "execution_count": 3,
   "metadata": {},
   "outputs": [],
   "source": [
    "def fix_Play_List(Play_List):\n",
    "    Play_List[\"アーティスト\"] = Play_List[\"アーティスト\"].str.replace('Remix', '')\n",
    "    Play_List[\"アーティスト\"] = Play_List[\"アーティスト\"].str.replace('ft.', '/')\n",
    "    Play_List[\"アーティスト\"] = Play_List[\"アーティスト\"].str.replace('Feat.', '/')\n",
    "    Play_List[\"アーティスト\"] = Play_List[\"アーティスト\"].str.replace('feat.', '/')\n",
    "    Play_List[\"アーティスト\"] = Play_List[\"アーティスト\"].str.replace('vs', '/')\n",
    "    Play_List[\"アーティスト\"] = Play_List[\"アーティスト\"].str.replace('remix', '/')\n",
    "    Play_List[\"アーティスト\"] = Play_List[\"アーティスト\"].str.replace('&', '/')\n",
    "    Play_List[\"アーティスト\"] = Play_List[\"アーティスト\"].str.replace('(', '/')\n",
    "    Play_List[\"アーティスト\"] = Play_List[\"アーティスト\"].str.replace(')', '/')\n",
    "    Play_List[\"アーティスト\"] = Play_List[\"アーティスト\"].str.replace('[', '')\n",
    "    Play_List[\"アーティスト\"] = Play_List[\"アーティスト\"].str.replace(']', '')\n",
    "\n",
    "\n",
    "    #Play_List[\"トラックタイトル\"] = Play_List[\"トラックタイトル\"].str.replace('(Original Mix)', '')\n",
    "    Play_List[\"トラックタイトル\"] = Play_List[\"トラックタイトル\"].str.replace('(Music Video HD)', '')\n",
    "    Play_List[\"トラックタイトル\"] = Play_List[\"トラックタイトル\"].str.replace(\"Original Mix\", '')\n",
    "    Play_List[\"トラックタイトル\"] = Play_List[\"トラックタイトル\"].str.replace(\"Extended Mix\", '')\n",
    "    Play_List[\"トラックタイトル\"] = Play_List[\"トラックタイトル\"].str.replace(\"-320\", '')\n",
    "    Play_List[\"トラックタイトル\"] = Play_List[\"トラックタイトル\"].str.replace(\"official audio\", '')\n",
    "    Play_List[\"トラックタイトル\"] = Play_List[\"トラックタイトル\"].str.replace(\"(\", '')\n",
    "    Play_List[\"トラックタイトル\"] = Play_List[\"トラックタイトル\"].str.replace(\")\", '')\n",
    "    Play_List[\"トラックタイトル\"] = Play_List[\"トラックタイトル\"].str.replace(\"[\", '')\n",
    "    Play_List[\"トラックタイトル\"] = Play_List[\"トラックタイトル\"].str.replace(\"]\", '')\n",
    "    \n",
    "    return Play_List"
   ]
  },
  {
   "cell_type": "code",
   "execution_count": 5,
   "metadata": {},
   "outputs": [],
   "source": [
    "def get_id_track_artist(name):\n",
    "    id_list = []\n",
    "    name_list = []\n",
    "    artists = []\n",
    "    d = \"\"\n",
    "    result = sp.search(q='track:'+name, limit=50, offset=0, type='track', market=None)\n",
    "\n",
    "\n",
    "    for track in result['tracks']['items']:\n",
    "        id_list.append(track['id'])\n",
    "        name_list.append(track[\"name\"])\n",
    "        #artists.append(track[\"artists\"][0]['name'])\n",
    "        if len(track[\"artists\"])== 1:\n",
    "            d = track[\"artists\"][0]['name']\n",
    "        if len(track[\"artists\"])== 2:\n",
    "            d = track[\"artists\"][0]['name'] + \"/\" + track[\"artists\"][1]['name']\n",
    "        if len(track[\"artists\"]) >2:\n",
    "            d = track[\"artists\"][0]['name'] + \"/\" + track[\"artists\"][1]['name']+ \"/\" + track[\"artists\"][2]['name']\n",
    "        artists.append(d)\n",
    "    \n",
    "    df = pd.DataFrame({'id': id_list ,'track': name_list, \"artist\" : artists})\n",
    "    \n",
    "    return df\n"
   ]
  },
  {
   "cell_type": "code",
   "execution_count": 6,
   "metadata": {},
   "outputs": [],
   "source": [
    "def get_appropriate_track(df,P):\n",
    "    match_list = []\n",
    "    for j in range(len(df)):\n",
    "        wi = 0\n",
    "        for w in re.split('[/]',df[\"artist\"][j]) :\n",
    "            for p_w in re.split('[/]',P):\n",
    "                #print(w)\n",
    "                #print(p_w)\n",
    "                if w in p_w:\n",
    "                    #print(\"fit\")\n",
    "                    wi = wi +1\n",
    "        match_list.append(wi)\n",
    "\n",
    "    df[\"match\"] = match_list\n",
    "\n",
    "    df = df.sort_values(by = \"match\", ascending=False)\n",
    "    df.head()\n",
    "    return df.iloc[0:1,:]        "
   ]
  },
  {
   "cell_type": "code",
   "execution_count": 7,
   "metadata": {},
   "outputs": [],
   "source": [
    "def get_track_info(play_list_df):\n",
    "    \n",
    "    columns=['danceability', 'energy', 'key', 'loudness', 'mode', 'speechiness',\n",
    "           'acousticness', 'instrumentalness', 'liveness', 'valence', 'tempo',\n",
    "           'type', 'id', 'uri', 'track_href', 'analysis_url', 'duration_ms',\n",
    "           'time_signature']\n",
    "    features_df = pd.DataFrame(index=[], columns=columns)\n",
    "\n",
    "    for idx in play_list_df[\"id\"]:\n",
    "        features = sp.audio_features(idx)\n",
    "        features_temp = pd.DataFrame(features)\n",
    "        features_df = pd.concat([features_df, features_temp])\n",
    "    features_df = features_df.reset_index()\n",
    "\n",
    "    return features_df\n"
   ]
  },
  {
   "cell_type": "code",
   "execution_count": 8,
   "metadata": {},
   "outputs": [],
   "source": [
    "files = glob.glob(\"./playlists/*.txt\")"
   ]
  },
  {
   "cell_type": "code",
   "execution_count": 9,
   "metadata": {},
   "outputs": [],
   "source": [
    "for file in files:\n",
    "    with  codecs.open(file, 'r', 'utf-16', 'ignore') as f:\n",
    "        Play_List = pd.read_table(f) \n",
    "        Play_List = fix_Play_List(Play_List)\n",
    "        \n",
    "    cols = ['id', 'track',\"artist\", \"match\"]\n",
    "    play_list_df = pd.DataFrame(index=[], columns=cols)\n",
    "    for Play_List_num in range(len(Play_List)):\n",
    "        name = Play_List[\"トラックタイトル\"][Play_List_num]\n",
    "        df = get_id_track_artist(name)\n",
    "        appropriate_track = get_appropriate_track(df, Play_List[\"アーティスト\"][Play_List_num])\n",
    "        play_list_df = pd.concat([play_list_df, appropriate_track])\n",
    "    play_list_df = play_list_df.reset_index()\n",
    "\n",
    "    features_df = get_track_info(play_list_df)\n",
    "\n",
    "    play_list_df = pd.merge(play_list_df, features_df, on='id')\n",
    "\n",
    "    play_list_df.to_csv(file[:-4] + \".csv\")"
   ]
  },
  {
   "cell_type": "code",
   "execution_count": null,
   "metadata": {},
   "outputs": [],
   "source": []
  }
 ],
 "metadata": {
  "kernelspec": {
   "display_name": "Python 3",
   "language": "python",
   "name": "python3"
  },
  "language_info": {
   "codemirror_mode": {
    "name": "ipython",
    "version": 3
   },
   "file_extension": ".py",
   "mimetype": "text/x-python",
   "name": "python",
   "nbconvert_exporter": "python",
   "pygments_lexer": "ipython3",
   "version": "3.8.5"
  }
 },
 "nbformat": 4,
 "nbformat_minor": 4
}
