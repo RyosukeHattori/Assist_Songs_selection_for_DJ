{
 "cells": [
  {
   "cell_type": "code",
   "execution_count": 2,
   "metadata": {},
   "outputs": [],
   "source": [
    "import pandas as pd\n",
    "import glob\n",
    "\n",
    "import spotipy\n",
    "from spotipy.oauth2 import SpotifyClientCredentials\n",
    "import spotipy.util as util\n",
    "\n",
    "%matplotlib inline\n",
    "import matplotlib.pyplot as plt\n",
    "\n",
    "\n",
    "client_id = '55e915e6dc2549b29feb68ef4e611e2a'\n",
    "client_secret = '086669968e7e4892bc08c8d39308afaf'\n",
    "username=\"21ulbu67tca2mhvh2jiy3g4da\"\n",
    "\n",
    "token = util.prompt_for_user_token(\n",
    "    username=\"21ulbu67tca2mhvh2jiy3g4da\",\n",
    "    scope='user-read-playback-state,playlist-read-private,user-modify-playback-state,playlist-modify-public', \n",
    "    client_id = '55e915e6dc2549b29feb68ef4e611e2a',\n",
    "    client_secret = '086669968e7e4892bc08c8d39308afaf',\n",
    "    redirect_uri=\"http://localhost:8889/callback\"\n",
    ")\n",
    "sp = spotipy.Spotify(auth=token)"
   ]
  },
  {
   "cell_type": "code",
   "execution_count": 14,
   "metadata": {},
   "outputs": [
    {
     "name": "stdout",
     "output_type": "stream",
     "text": [
      "['./playlists/mixcloud/2020/Hit Chatr March.csv', './playlists/mixcloud/2020/test.csv', './playlists/mixcloud/2020/0425.csv', './playlists/mixcloud/2020/party.csv', './playlists/mixcloud/2020/0310.csv', './playlists/mixcloud/2020/EDM黄金期.csv']\n"
     ]
    }
   ],
   "source": [
    "files = glob.glob(\"./playlists/mixcloud/2020/*.csv\")\n",
    "print(files)"
   ]
  },
  {
   "cell_type": "code",
   "execution_count": 15,
   "metadata": {},
   "outputs": [],
   "source": [
    "for file in files:\n",
    "    df = pd.read_csv(file)\n",
    "    df = df.drop([\"Unnamed: 0\",\"index_x\"] ,1)\n",
    "    \n",
    "    playlist_name = file.split(\"/\")[-1][:-4]\n",
    "    \n",
    "    playlists = sp.user_playlist_create(username, playlist_name, public=True, collaborative=False)\n",
    "\n",
    "    playlists = sp.current_user_playlists()\n",
    "    for i, item in enumerate(playlists['items']):\n",
    "        if item['name'] == playlist_name:\n",
    "            playlist_id = item['id']\n",
    "\n",
    "    track_ids = df[\"id\"]\n",
    "    sp.user_playlist_add_tracks(username, playlist_id, track_ids)"
   ]
  },
  {
   "cell_type": "code",
   "execution_count": 11,
   "metadata": {},
   "outputs": [
    {
     "data": {
      "text/plain": [
       "'R&B)'"
      ]
     },
     "execution_count": 11,
     "metadata": {},
     "output_type": "execute_result"
    }
   ],
   "source": []
  },
  {
   "cell_type": "code",
   "execution_count": null,
   "metadata": {},
   "outputs": [],
   "source": []
  }
 ],
 "metadata": {
  "kernelspec": {
   "display_name": "Python 3",
   "language": "python",
   "name": "python3"
  },
  "language_info": {
   "codemirror_mode": {
    "name": "ipython",
    "version": 3
   },
   "file_extension": ".py",
   "mimetype": "text/x-python",
   "name": "python",
   "nbconvert_exporter": "python",
   "pygments_lexer": "ipython3",
   "version": "3.8.5"
  }
 },
 "nbformat": 4,
 "nbformat_minor": 4
}
